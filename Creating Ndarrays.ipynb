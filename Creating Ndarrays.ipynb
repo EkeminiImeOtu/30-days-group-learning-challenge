{
 "cells": [
  {
   "cell_type": "markdown",
   "id": "baf54a6b",
   "metadata": {},
   "source": [
    " # Creating Ndarrays(Numpy Arrays)"
   ]
  },
  {
   "cell_type": "markdown",
   "id": "8936fe14",
   "metadata": {},
   "source": [
    "First of all I will import the numpy library for the execution to run"
   ]
  },
  {
   "cell_type": "code",
   "execution_count": 1,
   "id": "447a8a16",
   "metadata": {},
   "outputs": [],
   "source": [
    "import numpy as np"
   ]
  },
  {
   "cell_type": "markdown",
   "id": "f782e456",
   "metadata": {},
   "source": [
    "I will create a numpy array using the function in python known as random.randn() from numpy library I imported above"
   ]
  },
  {
   "cell_type": "code",
   "execution_count": 2,
   "id": "8f522c25",
   "metadata": {},
   "outputs": [
    {
     "data": {
      "text/plain": [
       "array([[-0.70717005,  1.23931414,  0.76047009],\n",
       "       [ 0.47432649,  0.15767869,  0.32571517]])"
      ]
     },
     "execution_count": 2,
     "metadata": {},
     "output_type": "execute_result"
    }
   ],
   "source": [
    "first_array = np.random.randn(2,3)\n",
    "first_array"
   ]
  },
  {
   "cell_type": "markdown",
   "id": "7fdfe97a",
   "metadata": {},
   "source": [
    "Now lets check the dimension of the first_array by using the attribute .ndim"
   ]
  },
  {
   "cell_type": "code",
   "execution_count": 3,
   "id": "2a34dfff",
   "metadata": {},
   "outputs": [
    {
     "data": {
      "text/plain": [
       "2"
      ]
     },
     "execution_count": 3,
     "metadata": {},
     "output_type": "execute_result"
    }
   ],
   "source": [
    "first_array.ndim"
   ]
  },
  {
   "cell_type": "markdown",
   "id": "45034dea",
   "metadata": {},
   "source": [
    "Now lets check the shape of the first_array by using the attribute.shape"
   ]
  },
  {
   "cell_type": "code",
   "execution_count": 4,
   "id": "058e4cf9",
   "metadata": {},
   "outputs": [
    {
     "data": {
      "text/plain": [
       "(2, 3)"
      ]
     },
     "execution_count": 4,
     "metadata": {},
     "output_type": "execute_result"
    }
   ],
   "source": [
    "first_array.shape"
   ]
  },
  {
   "cell_type": "markdown",
   "id": "026919d9",
   "metadata": {},
   "source": [
    "To check the Data type of the first_array we use the attribute dtype"
   ]
  },
  {
   "cell_type": "code",
   "execution_count": 5,
   "id": "cc03aa49",
   "metadata": {},
   "outputs": [
    {
     "data": {
      "text/plain": [
       "dtype('float64')"
      ]
     },
     "execution_count": 5,
     "metadata": {},
     "output_type": "execute_result"
    }
   ],
   "source": [
    "first_array.dtype"
   ]
  },
  {
   "cell_type": "markdown",
   "id": "23d3a13c",
   "metadata": {},
   "source": [
    " I will  create a list "
   ]
  },
  {
   "cell_type": "code",
   "execution_count": 6,
   "id": "28cda64a",
   "metadata": {},
   "outputs": [],
   "source": [
    "first_list = [5,7,8,0,3,2,1]"
   ]
  },
  {
   "cell_type": "markdown",
   "id": "55860f75",
   "metadata": {},
   "source": [
    "I will convert this list into numpy array using the numpy array() function and display it"
   ]
  },
  {
   "cell_type": "code",
   "execution_count": 7,
   "id": "b34cd806",
   "metadata": {},
   "outputs": [
    {
     "data": {
      "text/plain": [
       "array([5, 7, 8, 0, 3, 2, 1])"
      ]
     },
     "execution_count": 7,
     "metadata": {},
     "output_type": "execute_result"
    }
   ],
   "source": [
    "second_array = np.array(first_list)\n",
    "second_array"
   ]
  },
  {
   "cell_type": "markdown",
   "id": "6025800d",
   "metadata": {},
   "source": [
    "Now lets check the dimension using the 'ndim' attribute"
   ]
  },
  {
   "cell_type": "code",
   "execution_count": 8,
   "id": "b1f7c895",
   "metadata": {},
   "outputs": [
    {
     "data": {
      "text/plain": [
       "1"
      ]
     },
     "execution_count": 8,
     "metadata": {},
     "output_type": "execute_result"
    }
   ],
   "source": [
    "second_array.ndim"
   ]
  },
  {
   "cell_type": "markdown",
   "id": "9f5d1d91",
   "metadata": {},
   "source": [
    "Now, lets check the shape using the shape attribute"
   ]
  },
  {
   "cell_type": "code",
   "execution_count": 9,
   "id": "ddba523d",
   "metadata": {},
   "outputs": [
    {
     "data": {
      "text/plain": [
       "(7,)"
      ]
     },
     "execution_count": 9,
     "metadata": {},
     "output_type": "execute_result"
    }
   ],
   "source": [
    "second_array.shape\n"
   ]
  },
  {
   "cell_type": "markdown",
   "id": "a65b9767",
   "metadata": {},
   "source": [
    "Now, lets create a nested list"
   ]
  },
  {
   "cell_type": "code",
   "execution_count": 10,
   "id": "e2e54f70",
   "metadata": {},
   "outputs": [],
   "source": [
    "second_list = [[2,3,4],[5,6,7]]"
   ]
  },
  {
   "cell_type": "markdown",
   "id": "f6b487f7",
   "metadata": {},
   "source": [
    "Now we convert the second_list into numpy array using thr function array()\n"
   ]
  },
  {
   "cell_type": "code",
   "execution_count": 11,
   "id": "8b21a2f0",
   "metadata": {},
   "outputs": [],
   "source": [
    "third_array = np.array(second_list)"
   ]
  },
  {
   "cell_type": "markdown",
   "id": "4f220350",
   "metadata": {},
   "source": [
    "Lets display this new array"
   ]
  },
  {
   "cell_type": "code",
   "execution_count": 12,
   "id": "782782ec",
   "metadata": {},
   "outputs": [
    {
     "data": {
      "text/plain": [
       "array([[2, 3, 4],\n",
       "       [5, 6, 7]])"
      ]
     },
     "execution_count": 12,
     "metadata": {},
     "output_type": "execute_result"
    }
   ],
   "source": [
    "third_array"
   ]
  },
  {
   "cell_type": "markdown",
   "id": "8abcc34f",
   "metadata": {},
   "source": [
    "Lets check its dimension"
   ]
  },
  {
   "cell_type": "code",
   "execution_count": 13,
   "id": "9873fb48",
   "metadata": {},
   "outputs": [
    {
     "data": {
      "text/plain": [
       "2"
      ]
     },
     "execution_count": 13,
     "metadata": {},
     "output_type": "execute_result"
    }
   ],
   "source": [
    "third_array.ndim"
   ]
  },
  {
   "cell_type": "code",
   "execution_count": 14,
   "id": "3f37329e",
   "metadata": {},
   "outputs": [
    {
     "data": {
      "text/plain": [
       "(2, 3)"
      ]
     },
     "execution_count": 14,
     "metadata": {},
     "output_type": "execute_result"
    }
   ],
   "source": [
    "#lets check the shape\n",
    "third_array.shape"
   ]
  },
  {
   "cell_type": "code",
   "execution_count": 15,
   "id": "67612b9c",
   "metadata": {},
   "outputs": [],
   "source": [
    "# Now lets create a list with mixed data types(integers and floats numbers)\n",
    "mixed_list=[2, 2.5, 2. , 5]"
   ]
  },
  {
   "cell_type": "code",
   "execution_count": 16,
   "id": "f993137f",
   "metadata": {},
   "outputs": [
    {
     "data": {
      "text/plain": [
       "array([2. , 2.5, 2. , 5. ])"
      ]
     },
     "execution_count": 16,
     "metadata": {},
     "output_type": "execute_result"
    }
   ],
   "source": [
    "#Lets convert this list into numpy array to examine the resulted data type:\n",
    "mixed_array = np.array(mixed_list)\n",
    "mixed_array"
   ]
  },
  {
   "cell_type": "code",
   "execution_count": 17,
   "id": "7662c1c3",
   "metadata": {},
   "outputs": [
    {
     "data": {
      "text/plain": [
       "dtype('float64')"
      ]
     },
     "execution_count": 17,
     "metadata": {},
     "output_type": "execute_result"
    }
   ],
   "source": [
    "#lets check data types\n",
    "mixed_array.dtype\n"
   ]
  },
  {
   "cell_type": "markdown",
   "id": "1949d081",
   "metadata": {},
   "source": [
    "We can create a numpy array with certain size filled with zero like this below"
   ]
  },
  {
   "cell_type": "code",
   "execution_count": 18,
   "id": "1bfcd69a",
   "metadata": {},
   "outputs": [
    {
     "data": {
      "text/plain": [
       "array([0., 0., 0., 0., 0., 0., 0., 0., 0., 0., 0., 0.])"
      ]
     },
     "execution_count": 18,
     "metadata": {},
     "output_type": "execute_result"
    }
   ],
   "source": [
    "filled_array = np.zeros(12)\n",
    "filled_array"
   ]
  },
  {
   "cell_type": "markdown",
   "id": "e9d8112b",
   "metadata": {},
   "source": [
    "We can create two dimensional numpy array filled with ones as below"
   ]
  },
  {
   "cell_type": "code",
   "execution_count": 19,
   "id": "1d99c78e",
   "metadata": {},
   "outputs": [
    {
     "data": {
      "text/plain": [
       "array([[1., 1., 1., 1., 1.],\n",
       "       [1., 1., 1., 1., 1.],\n",
       "       [1., 1., 1., 1., 1.],\n",
       "       [1., 1., 1., 1., 1.]])"
      ]
     },
     "execution_count": 19,
     "metadata": {},
     "output_type": "execute_result"
    }
   ],
   "source": [
    "one_filled_array = np.ones((4,5))\n",
    "one_filled_array"
   ]
  },
  {
   "cell_type": "markdown",
   "id": "31b0739f",
   "metadata": {},
   "source": [
    "# Thank you \n",
    "Day 2 of 30"
   ]
  },
  {
   "cell_type": "code",
   "execution_count": null,
   "id": "a21f82c8",
   "metadata": {},
   "outputs": [],
   "source": []
  }
 ],
 "metadata": {
  "kernelspec": {
   "display_name": "Python 3 (ipykernel)",
   "language": "python",
   "name": "python3"
  },
  "language_info": {
   "codemirror_mode": {
    "name": "ipython",
    "version": 3
   },
   "file_extension": ".py",
   "mimetype": "text/x-python",
   "name": "python",
   "nbconvert_exporter": "python",
   "pygments_lexer": "ipython3",
   "version": "3.9.7"
  }
 },
 "nbformat": 4,
 "nbformat_minor": 5
}
