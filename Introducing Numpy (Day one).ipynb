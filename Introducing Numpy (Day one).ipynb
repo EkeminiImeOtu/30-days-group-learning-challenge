{
 "cells": [
  {
   "cell_type": "markdown",
   "id": "50d92159",
   "metadata": {},
   "source": [
    "# Comparing the execution speed numpy (Day one)"
   ]
  },
  {
   "cell_type": "markdown",
   "id": "554b607a",
   "metadata": {},
   "source": [
    "First, I will create a list using the range() function"
   ]
  },
  {
   "cell_type": "code",
   "execution_count": 1,
   "id": "2603bcf1",
   "metadata": {},
   "outputs": [],
   "source": [
    "first_list = list(range(7000000))"
   ]
  },
  {
   "cell_type": "markdown",
   "id": "7efea13c",
   "metadata": {},
   "source": [
    "Next, we check the type of this variable defined\n"
   ]
  },
  {
   "cell_type": "code",
   "execution_count": 2,
   "id": "fe2dc094",
   "metadata": {},
   "outputs": [
    {
     "data": {
      "text/plain": [
       "list"
      ]
     },
     "execution_count": 2,
     "metadata": {},
     "output_type": "execute_result"
    }
   ],
   "source": [
    "type(first_list)"
   ]
  },
  {
   "cell_type": "markdown",
   "id": "d6541ae5",
   "metadata": {},
   "source": [
    "We will then import the numpy library"
   ]
  },
  {
   "cell_type": "code",
   "execution_count": 3,
   "id": "96472ec4",
   "metadata": {},
   "outputs": [],
   "source": [
    "import numpy as np"
   ]
  },
  {
   "cell_type": "markdown",
   "id": "7af23cc2",
   "metadata": {},
   "source": [
    "    I will create the same list above but will use the arange() function in numpy"
   ]
  },
  {
   "cell_type": "code",
   "execution_count": 5,
   "id": "190e85f8",
   "metadata": {},
   "outputs": [],
   "source": [
    "second_list = np.arange(7000000)"
   ]
  },
  {
   "cell_type": "markdown",
   "id": "be1bcf1c",
   "metadata": {},
   "source": [
    "Now, lets check the type of data in second_list using the type() function"
   ]
  },
  {
   "cell_type": "code",
   "execution_count": 6,
   "id": "23f8a8c9",
   "metadata": {},
   "outputs": [
    {
     "data": {
      "text/plain": [
       "numpy.ndarray"
      ]
     },
     "execution_count": 6,
     "metadata": {},
     "output_type": "execute_result"
    }
   ],
   "source": [
    "type(second_list)"
   ]
  },
  {
   "cell_type": "markdown",
   "id": "c7c59f34",
   "metadata": {},
   "source": [
    "Next, I will check the execution time for multiplying the first ist by number 5 using the %timeit"
   ]
  },
  {
   "cell_type": "code",
   "execution_count": 8,
   "id": "b3c4b926",
   "metadata": {},
   "outputs": [
    {
     "name": "stdout",
     "output_type": "stream",
     "text": [
      "466 ms ± 29.2 ms per loop (mean ± std. dev. of 7 runs, 1 loop each)\n"
     ]
    }
   ],
   "source": [
    "%timeit first_list*5"
   ]
  },
  {
   "cell_type": "markdown",
   "id": "849d12de",
   "metadata": {},
   "source": [
    "Now, I will check the execution time for multiplying using numpy array\n"
   ]
  },
  {
   "cell_type": "code",
   "execution_count": 9,
   "id": "21e57e5d",
   "metadata": {},
   "outputs": [
    {
     "name": "stdout",
     "output_type": "stream",
     "text": [
      "15.6 ms ± 718 µs per loop (mean ± std. dev. of 7 runs, 100 loops each)\n"
     ]
    }
   ],
   "source": [
    "%timeit second_list * 5"
   ]
  },
  {
   "cell_type": "markdown",
   "id": "6dc5420d",
   "metadata": {},
   "source": [
    "# Thank you for reading. Day one (Introducing Numpy Array)"
   ]
  },
  {
   "cell_type": "code",
   "execution_count": null,
   "id": "4341c919",
   "metadata": {},
   "outputs": [],
   "source": []
  }
 ],
 "metadata": {
  "kernelspec": {
   "display_name": "Python 3 (ipykernel)",
   "language": "python",
   "name": "python3"
  },
  "language_info": {
   "codemirror_mode": {
    "name": "ipython",
    "version": 3
   },
   "file_extension": ".py",
   "mimetype": "text/x-python",
   "name": "python",
   "nbconvert_exporter": "python",
   "pygments_lexer": "ipython3",
   "version": "3.9.7"
  }
 },
 "nbformat": 4,
 "nbformat_minor": 5
}
